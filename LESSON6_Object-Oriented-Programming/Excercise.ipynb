{
 "cells": [
  {
   "cell_type": "markdown",
   "id": "87673520",
   "metadata": {},
   "source": [
    "# Review Question 1"
   ]
  },
  {
   "cell_type": "code",
   "execution_count": 1,
   "id": "691def26",
   "metadata": {},
   "outputs": [],
   "source": [
    "class Dog:\n",
    "    species = \"Canis familiaris\"\n",
    "    \n",
    "    def __init__(self, name, age, coat_color):\n",
    "        self.name = name\n",
    "        self.age = age\n",
    "        self.coat_color = coat_color\n",
    "        \n",
    "    def description(self):\n",
    "        return f\"{self.name} is {self.age} years old.\"\n",
    "    \n",
    "    def speak(self, sound):\n",
    "        return f\"{self.name} says {sound}.\"\n",
    "    \n",
    "    def coat_info(self):\n",
    "        return f\"{self.name} has a {self.coat_color} coat.\"\n"
   ]
  },
  {
   "cell_type": "code",
   "execution_count": 2,
   "id": "777c0ac3",
   "metadata": {},
   "outputs": [
    {
     "name": "stdout",
     "output_type": "stream",
     "text": [
      "Philo's coat is brown.\n"
     ]
    }
   ],
   "source": [
    "philo = Dog(\"Philo\", 5, \"brown\")\n",
    "print(f\"{philo.name}'s coat is {philo.coat_color}.\")\n"
   ]
  },
  {
   "cell_type": "code",
   "execution_count": 15,
   "id": "d93fa026",
   "metadata": {},
   "outputs": [
    {
     "name": "stdout",
     "output_type": "stream",
     "text": [
      "The Blue car has 20000 miles.\n",
      "The Red car has 30000 miles.\n"
     ]
    }
   ],
   "source": [
    "class Car:\n",
    "    def __init__(self, color, mileage):\n",
    "        self.color = color\n",
    "        self.mileage = mileage\n",
    "\n",
    "car1 = Car(\"Blue\", 20000)\n",
    "car2 = Car(\"Red\", 30000)\n",
    "\n",
    "print(f\"The {car1.color} car has {car1.mileage} miles.\")\n",
    "print(f\"The {car2.color} car has {car2.mileage} miles.\")"
   ]
  },
  {
   "cell_type": "code",
   "execution_count": 20,
   "id": "509b0a07",
   "metadata": {},
   "outputs": [
    {
     "name": "stdout",
     "output_type": "stream",
     "text": [
      "100\n"
     ]
    }
   ],
   "source": [
    "class Car:\n",
    "    def __init__(self, color, mileage):\n",
    "        self.color = color\n",
    "        self.mileage = mileage\n",
    "\n",
    "    def drive(self, miles):\n",
    "        self.mileage += miles\n",
    "\n",
    "car = Car(\"Green\", 0)\n",
    "car.drive(100)\n",
    "print(car.mileage)"
   ]
  },
  {
   "cell_type": "markdown",
   "id": "e1891bff",
   "metadata": {},
   "source": [
    "# Review Question 2"
   ]
  },
  {
   "cell_type": "code",
   "execution_count": 23,
   "id": "5b5ccd4a",
   "metadata": {},
   "outputs": [
    {
     "name": "stdout",
     "output_type": "stream",
     "text": [
      "Max says Bark\n"
     ]
    }
   ],
   "source": [
    "class Dog:\n",
    "    species = \"Canis familiaris\"\n",
    "    \n",
    "    def __init__(self, name, age, sound):\n",
    "        self.name = name\n",
    "        self.age = age\n",
    "        self.sound = sound\n",
    "\n",
    "    def speak(self):\n",
    "        print(f\"{self.name} says {self.sound}\")\n",
    "\n",
    "class GoldenRetriever(Dog):\n",
    "    def __init__(self, name, age, sound):\n",
    "        super().__init__(name, age, sound)\n",
    "\n",
    "# Test\n",
    "gr = GoldenRetriever(\"Max\", 4, \"Bark\")\n",
    "gr.speak()\n"
   ]
  },
  {
   "cell_type": "code",
   "execution_count": 27,
   "id": "0844c683",
   "metadata": {},
   "outputs": [
    {
     "name": "stdout",
     "output_type": "stream",
     "text": [
      "The area of the square is 16\n"
     ]
    }
   ],
   "source": [
    "class Rectangle:\n",
    "    def __init__(self, length, width):\n",
    "        self.length = length\n",
    "        self.width = width\n",
    "\n",
    "    def area(self):\n",
    "        return self.length * self.width\n",
    "\n",
    "class Square(Rectangle):\n",
    "    def __init__(self, side_length):\n",
    "        super().__init__(side_length, side_length)\n",
    "\n",
    "sq = Square(4)\n",
    "print(f\"The area of the square is {sq.area()}\")\n"
   ]
  },
  {
   "cell_type": "markdown",
   "id": "b5b06e48",
   "metadata": {},
   "source": [
    "# Challenge: Model a Farm"
   ]
  },
  {
   "cell_type": "markdown",
   "id": "c9b94a5a",
   "metadata": {},
   "source": [
    "class Animal:\n",
    "    def __init__(self, name):\n",
    "        self.name = name\n",
    "\n",
    "    def eat(self):\n",
    "        print(f\"{self.name} is eating.\")\n",
    "\n",
    "class Cow(Animal):\n",
    "    def make_sound(self):\n",
    "        print(f\"{self.name} says Moo!\")\n",
    "\n",
    "class Chicken(Animal):\n",
    "    def make_sound(self):\n",
    "        print(f\"{self.name} says Cluck!\")\n",
    "\n",
    "class Pig(Animal):\n",
    "    def make_sound(self):\n",
    "        print(f\"{self.name} says Oink!\")\n",
    "\n",
    "# Test\n",
    "cow = Cow(\"Bessie\")\n",
    "chicken = Chicken(\"Chirpy\")\n",
    "pig = Pig(\"Porky\")\n",
    "\n",
    "for animal in [cow, chicken, pig]:\n",
    "    animal.eat()\n",
    "    animal.make_sound()\n"
   ]
  }
 ],
 "metadata": {
  "kernelspec": {
   "display_name": "PYTHON_PROG",
   "language": "python",
   "name": "python3"
  },
  "language_info": {
   "codemirror_mode": {
    "name": "ipython",
    "version": 3
   },
   "file_extension": ".py",
   "mimetype": "text/x-python",
   "name": "python",
   "nbconvert_exporter": "python",
   "pygments_lexer": "ipython3",
   "version": "3.13.5"
  }
 },
 "nbformat": 4,
 "nbformat_minor": 5
}
