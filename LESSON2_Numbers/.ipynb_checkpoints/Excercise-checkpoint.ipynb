{
 "cells": [
  {
   "cell_type": "markdown",
   "id": "f2d24590-d92d-4b8c-88b0-18266e416a35",
   "metadata": {},
   "source": [
    "# Review Question 1"
   ]
  },
  {
   "cell_type": "code",
   "execution_count": 1,
   "id": "ac2766ed-e28e-4538-a675-722b9a0c782f",
   "metadata": {},
   "outputs": [
    {
     "name": "stdout",
     "output_type": "stream",
     "text": [
      "25000000\n",
      "25000000\n"
     ]
    }
   ],
   "source": [
    "num1 = 25000000\n",
    "num2 = 25_000_000\n",
    "\n",
    "print(num1)\n",
    "print(num2)"
   ]
  },
  {
   "cell_type": "code",
   "execution_count": 14,
   "id": "6c551944-3f17-4c89-9502-e245ebcbc580",
   "metadata": {},
   "outputs": [
    {
     "name": "stdout",
     "output_type": "stream",
     "text": [
      "175000.0\n"
     ]
    }
   ],
   "source": [
    "num1 = 175e3\n",
    "\n",
    "print(num1)"
   ]
  },
  {
   "cell_type": "code",
   "execution_count": 13,
   "id": "5ad75d96-a12a-4e1b-a221-39ffc8529cf6",
   "metadata": {},
   "outputs": [
    {
     "name": "stdout",
     "output_type": "stream",
     "text": [
      "inf\n"
     ]
    }
   ],
   "source": [
    "print(2e308)"
   ]
  },
  {
   "cell_type": "markdown",
   "id": "e92e5f0e-7464-4f22-bcc6-84d04777704b",
   "metadata": {},
   "source": [
    "# Review Question 2"
   ]
  },
  {
   "cell_type": "code",
   "execution_count": 15,
   "id": "147acbe6-e605-4d39-b8e4-ee3f3e0b3eda",
   "metadata": {},
   "outputs": [
    {
     "name": "stdin",
     "output_type": "stream",
     "text": [
      "Enter a base:  1.2\n",
      "Enter an exponent:  3\n"
     ]
    },
    {
     "name": "stdout",
     "output_type": "stream",
     "text": [
      "1.2 raised to the power of 3 = 1.7279999999999998\n"
     ]
    }
   ],
   "source": [
    "base = float(input(\"Enter a base: \"))\n",
    "expo = int(input(\"Enter an exponent: \"))\n",
    "\n",
    "answ = base ** expo\n",
    "\n",
    "print(f\"{base} raised to the power of {expo} = {answ}\")"
   ]
  },
  {
   "cell_type": "markdown",
   "id": "ffd4efdd-6022-4740-941f-4e406e72a817",
   "metadata": {},
   "source": [
    "# Review Question 3"
   ]
  },
  {
   "cell_type": "code",
   "execution_count": 18,
   "id": "bbbea57b-e622-4cec-8aed-ff9e7386b84c",
   "metadata": {},
   "outputs": [
    {
     "name": "stdin",
     "output_type": "stream",
     "text": [
      "Enter a Number:  5.432\n"
     ]
    },
    {
     "name": "stdout",
     "output_type": "stream",
     "text": [
      "5.432 rounded to 2 decimal places is 5.43\n"
     ]
    }
   ],
   "source": [
    "num = float(input(\"Enter a Number: \"))\n",
    "\n",
    "roundNum = round(num, 2)\n",
    "print(f\"{num} rounded to 2 decimal places is {roundNum}\")"
   ]
  },
  {
   "cell_type": "code",
   "execution_count": 22,
   "id": "ce3c69bf-711a-4ab3-9f5a-ffafe7025609",
   "metadata": {},
   "outputs": [
    {
     "name": "stdin",
     "output_type": "stream",
     "text": [
      "Enter a Number:  -10\n"
     ]
    },
    {
     "name": "stdout",
     "output_type": "stream",
     "text": [
      "The absolute number of -10.0 is 10.0\n"
     ]
    }
   ],
   "source": [
    "num = float(input(\"Enter a Number: \"))\n",
    "\n",
    "absolute = abs(num)\n",
    "print(f\"The absolute number of {num} is {absolute}\")"
   ]
  },
  {
   "cell_type": "markdown",
   "id": "d505e4fc-4387-4336-9af4-d6e1333ca4a4",
   "metadata": {},
   "source": [
    "# Review Question 4"
   ]
  },
  {
   "cell_type": "code",
   "execution_count": 25,
   "id": "92c710ec-db4e-499a-a6ba-8151c75ff8d3",
   "metadata": {},
   "outputs": [
    {
     "name": "stdin",
     "output_type": "stream",
     "text": [
      "Enter a number:  1.5\n",
      "Enter another number:  .5\n"
     ]
    },
    {
     "name": "stdout",
     "output_type": "stream",
     "text": [
      "The difference between 1.5 and 0.5 is an integer? True!\n"
     ]
    }
   ],
   "source": [
    "num1 = float(input(\"Enter a number: \"))\n",
    "num2 = float(input(\"Enter another number: \"))\n",
    "\n",
    "diff = abs(num1 - num2)\n",
    "\n",
    "print(f\"The difference between {num1} and {num2} is an integer? {diff.is_integer()}!\")"
   ]
  },
  {
   "cell_type": "markdown",
   "id": "2a5d926f-d66e-4890-b349-c1ce009b4fe6",
   "metadata": {},
   "source": [
    "# Review Question 5"
   ]
  },
  {
   "cell_type": "code",
   "execution_count": 26,
   "id": "131d63a4-6644-4b5f-9c75-f1310a4e7254",
   "metadata": {},
   "outputs": [
    {
     "name": "stdout",
     "output_type": "stream",
     "text": [
      "1.147\n"
     ]
    }
   ],
   "source": [
    "print(f\"{3 ** 0.125:.3f}\")"
   ]
  },
  {
   "cell_type": "code",
   "execution_count": 29,
   "id": "a3628ad3-c07b-42ec-879e-9b2c6becb4e7",
   "metadata": {},
   "outputs": [
    {
     "name": "stdout",
     "output_type": "stream",
     "text": [
      "$150,000.00\n"
     ]
    }
   ],
   "source": [
    "print(f\"${150000:,.2f}\")"
   ]
  },
  {
   "cell_type": "code",
   "execution_count": 30,
   "id": "71d13f3d-9a7f-46b0-89bd-9732f524f23c",
   "metadata": {},
   "outputs": [
    {
     "name": "stdout",
     "output_type": "stream",
     "text": [
      "20%\n"
     ]
    }
   ],
   "source": [
    "print(f\"{2/10:.0%}\")"
   ]
  }
 ],
 "metadata": {
  "kernelspec": {
   "display_name": "Python 3 (ipykernel)",
   "language": "python",
   "name": "python3"
  },
  "language_info": {
   "codemirror_mode": {
    "name": "ipython",
    "version": 3
   },
   "file_extension": ".py",
   "mimetype": "text/x-python",
   "name": "python",
   "nbconvert_exporter": "python",
   "pygments_lexer": "ipython3",
   "version": "3.13.5"
  }
 },
 "nbformat": 4,
 "nbformat_minor": 5
}
