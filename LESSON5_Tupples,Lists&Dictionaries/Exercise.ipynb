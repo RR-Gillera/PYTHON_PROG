{
 "cells": [
  {
   "cell_type": "markdown",
   "id": "12bb18f6-c720-4bdb-9fb0-e138c993a537",
   "metadata": {},
   "source": [
    "# Review Question 1"
   ]
  },
  {
   "cell_type": "code",
   "execution_count": 1,
   "id": "36ebe8c1-1ee2-445e-b7cc-4968153cd607",
   "metadata": {},
   "outputs": [],
   "source": [
    "cardinal_numbers = [\"First\", \"Second\", \"Third\"]"
   ]
  },
  {
   "cell_type": "code",
   "execution_count": 11,
   "id": "e42e7211-6c37-4c7b-a569-43edcaf47771",
   "metadata": {},
   "outputs": [
    {
     "name": "stdout",
     "output_type": "stream",
     "text": [
      "Second\n"
     ]
    }
   ],
   "source": [
    "print(cardinal_numbers[1])"
   ]
  },
  {
   "cell_type": "code",
   "execution_count": 12,
   "id": "e25e751e-99ea-4e80-9ee5-fea5998b8801",
   "metadata": {},
   "outputs": [
    {
     "name": "stdout",
     "output_type": "stream",
     "text": [
      "First\n",
      "Second\n",
      "Third\n"
     ]
    }
   ],
   "source": [
    "position1, position2, position3 = cardinal_numbers\n",
    "print(position1)  \n",
    "print(position2)  \n",
    "print(position3)"
   ]
  },
  {
   "cell_type": "code",
   "execution_count": 6,
   "id": "29c79077-fbdc-40f1-a7ce-69a5f765becb",
   "metadata": {},
   "outputs": [
    {
     "name": "stdout",
     "output_type": "stream",
     "text": [
      "('R', 'u', 's', 's', 'e', 'l', 'l')\n"
     ]
    }
   ],
   "source": [
    "my_name = tuple(\"Russell\")\n",
    "print(my_name)"
   ]
  },
  {
   "cell_type": "code",
   "execution_count": 8,
   "id": "d10bea06-8f5f-4978-8023-f7c8e40f6e9b",
   "metadata": {},
   "outputs": [
    {
     "name": "stdout",
     "output_type": "stream",
     "text": [
      "False\n"
     ]
    }
   ],
   "source": [
    "print(\"X\" in my_name)"
   ]
  },
  {
   "cell_type": "code",
   "execution_count": 11,
   "id": "5b0b8767",
   "metadata": {},
   "outputs": [
    {
     "name": "stdout",
     "output_type": "stream",
     "text": [
      "('u', 's', 's', 'e', 'l', 'l')\n"
     ]
    }
   ],
   "source": [
    "new_tuple = my_name[1:]\n",
    "print(new_tuple)"
   ]
  },
  {
   "cell_type": "markdown",
   "id": "31f83b06",
   "metadata": {},
   "source": [
    "# Review Question 2"
   ]
  },
  {
   "cell_type": "code",
   "execution_count": 12,
   "id": "b54e58a7",
   "metadata": {},
   "outputs": [],
   "source": [
    "food = [\"Rice\",\"Beans\"]"
   ]
  },
  {
   "cell_type": "code",
   "execution_count": 13,
   "id": "12b6f637",
   "metadata": {},
   "outputs": [],
   "source": [
    "food.append(\"Broccoli\")"
   ]
  },
  {
   "cell_type": "code",
   "execution_count": 14,
   "id": "a4610bb4",
   "metadata": {},
   "outputs": [],
   "source": [
    "food.extend([\"Bread\",\"Pizza\"])"
   ]
  },
  {
   "cell_type": "code",
   "execution_count": 21,
   "id": "33f6d117",
   "metadata": {},
   "outputs": [
    {
     "name": "stdout",
     "output_type": "stream",
     "text": [
      "['Rice', 'Beans']\n"
     ]
    }
   ],
   "source": [
    "print(food[:2])"
   ]
  },
  {
   "cell_type": "code",
   "execution_count": 25,
   "id": "7e357b8c",
   "metadata": {},
   "outputs": [
    {
     "name": "stdout",
     "output_type": "stream",
     "text": [
      "Pizza\n"
     ]
    }
   ],
   "source": [
    "print(food[-1])"
   ]
  },
  {
   "cell_type": "code",
   "execution_count": 35,
   "id": "0f91fb88",
   "metadata": {},
   "outputs": [
    {
     "name": "stdout",
     "output_type": "stream",
     "text": [
      "['Eggs', 'Fruit', 'Orange Juice']\n"
     ]
    }
   ],
   "source": [
    "breakfast = \"Eggs, Fruit, Orange Juice\".split(\", \")\n",
    "print(breakfast)"
   ]
  },
  {
   "cell_type": "code",
   "execution_count": 37,
   "id": "e75b8f0e",
   "metadata": {},
   "outputs": [
    {
     "name": "stdout",
     "output_type": "stream",
     "text": [
      "3\n"
     ]
    }
   ],
   "source": [
    "print(len(breakfast))"
   ]
  },
  {
   "cell_type": "code",
   "execution_count": 39,
   "id": "e35b55f3",
   "metadata": {},
   "outputs": [
    {
     "name": "stdout",
     "output_type": "stream",
     "text": [
      "[4, 5, 12]\n"
     ]
    }
   ],
   "source": [
    "lengths = [len(i) for i in breakfast]\n",
    "print(lengths)"
   ]
  },
  {
   "cell_type": "markdown",
   "id": "ca3fcc08",
   "metadata": {},
   "source": [
    "# Review Question 3"
   ]
  },
  {
   "cell_type": "code",
   "execution_count": 41,
   "id": "63add03d",
   "metadata": {},
   "outputs": [],
   "source": [
    "data = ([1, 2], [3, 4])"
   ]
  },
  {
   "cell_type": "code",
   "execution_count": 43,
   "id": "c87725c0",
   "metadata": {},
   "outputs": [
    {
     "name": "stdout",
     "output_type": "stream",
     "text": [
      "3\n",
      "7\n"
     ]
    }
   ],
   "source": [
    "for tup in data:\n",
    "    print(sum(tup))"
   ]
  },
  {
   "cell_type": "code",
   "execution_count": null,
   "id": "6345e8e5",
   "metadata": {},
   "outputs": [
    {
     "name": "stdout",
     "output_type": "stream",
     "text": [
      "[4, 2, 9, 1, 5]\n"
     ]
    }
   ],
   "source": [
    "numbers = [4, 2, 9, 1, 5]\n",
    "numbers_copy = numbers[:]\n",
    "print(numbers_copy)"
   ]
  },
  {
   "cell_type": "code",
   "execution_count": 45,
   "id": "218e12ef",
   "metadata": {},
   "outputs": [
    {
     "name": "stdout",
     "output_type": "stream",
     "text": [
      "[1, 2, 4, 5, 9]\n"
     ]
    }
   ],
   "source": [
    "numbers.sort()\n",
    "print(numbers)"
   ]
  },
  {
   "cell_type": "markdown",
   "id": "ecc5d9a6",
   "metadata": {},
   "source": [
    "# Challenge: List of Lists"
   ]
  },
  {
   "cell_type": "code",
   "execution_count": 46,
   "id": "bfc895d7",
   "metadata": {},
   "outputs": [],
   "source": [
    "universities = [\n",
    "    ['California Institute of Technology', 2175, 37704],\n",
    "    ['Harvard', 19627, 39849],\n",
    "    ['Massachusetts Institute of Technology', 10566, 40732],\n",
    "    ['Princeton', 7802, 37000],\n",
    "    ['Rice', 5879, 35551],\n",
    "    ['Stanford', 19535, 40569],\n",
    "    ['Yale', 11701, 40500]\n",
    "]"
   ]
  },
  {
   "cell_type": "code",
   "execution_count": 47,
   "id": "3aa0da5c",
   "metadata": {},
   "outputs": [
    {
     "name": "stdout",
     "output_type": "stream",
     "text": [
      "California Institute of Technology: Enrollment = 2175, Tuition = $37704\n",
      "Harvard: Enrollment = 19627, Tuition = $39849\n",
      "Massachusetts Institute of Technology: Enrollment = 10566, Tuition = $40732\n",
      "Princeton: Enrollment = 7802, Tuition = $37000\n",
      "Rice: Enrollment = 5879, Tuition = $35551\n",
      "Stanford: Enrollment = 19535, Tuition = $40569\n",
      "Yale: Enrollment = 11701, Tuition = $40500\n"
     ]
    }
   ],
   "source": [
    "for uni in universities:\n",
    "    name, enrollment, tuition = uni\n",
    "    print(f\"{name}: Enrollment = {enrollment}, Tuition = ${tuition}\")"
   ]
  },
  {
   "cell_type": "markdown",
   "id": "9db98b0f",
   "metadata": {},
   "source": [
    "# Challenge: Wax Poetic"
   ]
  },
  {
   "cell_type": "code",
   "execution_count": 56,
   "id": "48a9a5d1",
   "metadata": {},
   "outputs": [],
   "source": [
    "nouns = [\"Fossil\", \"Horse\", \"Aardvark\", \"Judge\", \"Chef\", \"Mango\", \"Extrovert\", \"Gorilla\"]\n",
    "verbs = [\"Kicks\", \"Jingles\", \"Bounces\", \"Slurps\", \"Meows\", \"Explodes\", \"Curdles\"]\n",
    "adjectives = [\"Furry\", \"Balding\", \"Incredulous\", \"Fragrant\", \"Exuberant\", \"Glistening\"]\n",
    "prepositions = [\"Against\", \"After\", \"Into\", \"Beneath\", \"Upon\", \"For\", \"In\", \"Like\", \"Over\", \"Within\"]\n",
    "adverbs = [\"Curiously\", \"Furiously\", \"Sensuously\", \"Extravagantly\", \"Tantalizingly\"]"
   ]
  },
  {
   "cell_type": "code",
   "execution_count": 54,
   "id": "8db2bd6c",
   "metadata": {},
   "outputs": [],
   "source": [
    "noun1 = random.choice(nouns)\n",
    "noun2 = random.choice(nouns)\n",
    "verb = random.choice(verbs)\n",
    "adjective1 = random.choice(adjectives)\n",
    "adjective2 = random.choice(adjectives)\n",
    "preposition = random.choice(prepositions)\n",
    "adverb = random.choice(adverbs)"
   ]
  },
  {
   "cell_type": "code",
   "execution_count": 60,
   "id": "e1a2242b",
   "metadata": {},
   "outputs": [
    {
     "name": "stdout",
     "output_type": "stream",
     "text": [
      "The INCREDULOUS CHEF EXTRAVAGANTLY KICKS UPON the FURRY MANGO.\n"
     ]
    }
   ],
   "source": [
    "poem = f\"The {adjective1} {noun1} {adverb} {verb} {preposition} the {adjective2} {noun2}.\"\n",
    "print(poem)"
   ]
  },
  {
   "cell_type": "code",
   "execution_count": null,
   "id": "9367841c",
   "metadata": {},
   "outputs": [],
   "source": []
  }
 ],
 "metadata": {
  "kernelspec": {
   "display_name": "PYTHON_PROG",
   "language": "python",
   "name": "python3"
  },
  "language_info": {
   "codemirror_mode": {
    "name": "ipython",
    "version": 3
   },
   "file_extension": ".py",
   "mimetype": "text/x-python",
   "name": "python",
   "nbconvert_exporter": "python",
   "pygments_lexer": "ipython3",
   "version": "3.13.5"
  }
 },
 "nbformat": 4,
 "nbformat_minor": 5
}
