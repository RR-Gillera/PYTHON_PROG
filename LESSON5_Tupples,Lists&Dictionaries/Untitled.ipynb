{
 "cells": [
  {
   "cell_type": "markdown",
   "id": "12bb18f6-c720-4bdb-9fb0-e138c993a537",
   "metadata": {},
   "source": [
    "# Review Question 1"
   ]
  },
  {
   "cell_type": "code",
   "execution_count": 1,
   "id": "36ebe8c1-1ee2-445e-b7cc-4968153cd607",
   "metadata": {},
   "outputs": [],
   "source": [
    "cardinal_numbers = [\"First\", \"Second\", \"Third\"]"
   ]
  },
  {
   "cell_type": "code",
   "execution_count": 11,
   "id": "e42e7211-6c37-4c7b-a569-43edcaf47771",
   "metadata": {},
   "outputs": [
    {
     "name": "stdout",
     "output_type": "stream",
     "text": [
      "Second\n"
     ]
    }
   ],
   "source": [
    "print(cardinal_numbers[1])"
   ]
  },
  {
   "cell_type": "code",
   "execution_count": 12,
   "id": "e25e751e-99ea-4e80-9ee5-fea5998b8801",
   "metadata": {},
   "outputs": [
    {
     "name": "stdout",
     "output_type": "stream",
     "text": [
      "First\n",
      "Second\n",
      "Third\n"
     ]
    }
   ],
   "source": [
    "position1, position2, position3 = cardinal_numbers\n",
    "print(position1)  \n",
    "print(position2)  \n",
    "print(position3)"
   ]
  },
  {
   "cell_type": "code",
   "execution_count": null,
   "id": "29c79077-fbdc-40f1-a7ce-69a5f765becb",
   "metadata": {},
   "outputs": [],
   "source": []
  },
  {
   "cell_type": "code",
   "execution_count": null,
   "id": "d10bea06-8f5f-4978-8023-f7c8e40f6e9b",
   "metadata": {},
   "outputs": [],
   "source": []
  }
 ],
 "metadata": {
  "kernelspec": {
   "display_name": "Python 3 (ipykernel)",
   "language": "python",
   "name": "python3"
  },
  "language_info": {
   "codemirror_mode": {
    "name": "ipython",
    "version": 3
   },
   "file_extension": ".py",
   "mimetype": "text/x-python",
   "name": "python",
   "nbconvert_exporter": "python",
   "pygments_lexer": "ipython3",
   "version": "3.13.5"
  }
 },
 "nbformat": 4,
 "nbformat_minor": 5
}
