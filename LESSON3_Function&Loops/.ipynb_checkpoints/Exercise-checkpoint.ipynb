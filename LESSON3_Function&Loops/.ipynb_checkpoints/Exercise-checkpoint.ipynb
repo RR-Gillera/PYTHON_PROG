{
 "cells": [
  {
   "cell_type": "markdown",
   "id": "9dc10f2a",
   "metadata": {},
   "source": [
    "# Review Question 1"
   ]
  },
  {
   "cell_type": "code",
   "execution_count": 2,
   "id": "fb0be407",
   "metadata": {},
   "outputs": [
    {
     "name": "stdout",
     "output_type": "stream",
     "text": [
      "5832\n",
      "2744\n",
      "6859\n"
     ]
    }
   ],
   "source": [
    "def cube(num):\n",
    "    return num ** 3\n",
    "\n",
    "print(cube(18))\n",
    "print(cube(14))\n",
    "print(cube(19))"
   ]
  },
  {
   "cell_type": "code",
   "execution_count": 6,
   "id": "f2ff4c0d",
   "metadata": {},
   "outputs": [
    {
     "name": "stdout",
     "output_type": "stream",
     "text": [
      "Hello Rasil!\n"
     ]
    }
   ],
   "source": [
    "name = input(\"Enter your name: \")\n",
    "greet(name)\n",
    "\n",
    "def greet(name):\n",
    "    print(f\"Hello {name}!\")"
   ]
  },
  {
   "cell_type": "markdown",
   "id": "3a1cc623",
   "metadata": {},
   "source": [
    "# Challenge: Convert Temperatures"
   ]
  },
  {
   "cell_type": "code",
   "execution_count": 13,
   "id": "bbbe367e",
   "metadata": {},
   "outputs": [
    {
     "name": "stdout",
     "output_type": "stream",
     "text": [
      "38 degrees C = 100.22 degrees F\n"
     ]
    }
   ],
   "source": [
    "def convert_cel_to_far(cel):\n",
    "    return (cel * 9/5) + 32\n",
    "\n",
    "cel  = float(input(\"Enter a temperature in degrees C: \"))\n",
    "far = convert_cel_to_far(cel)\n",
    "\n",
    "print(f\"{cel:.0f} degrees C = {far:.2f} degrees F\")"
   ]
  },
  {
   "cell_type": "code",
   "execution_count": 14,
   "id": "85b89ce0",
   "metadata": {},
   "outputs": [
    {
     "name": "stdout",
     "output_type": "stream",
     "text": [
      "72 degrees F = 22.22 degrees C\n"
     ]
    }
   ],
   "source": [
    "def convert_far_to_cel(far):\n",
    "    return (far - 32) * 5/9\n",
    "\n",
    "far = float(input(\"Enter a temperature in degrees F: \"))\n",
    "cel = convert_far_to_cel(far)\n",
    "\n",
    "print(f\"{far:.0f} degrees F = {cel:.2f} degrees C\")"
   ]
  },
  {
   "cell_type": "markdown",
   "id": "3abce689",
   "metadata": {},
   "source": [
    "# Review Question 3"
   ]
  },
  {
   "cell_type": "code",
   "execution_count": 15,
   "id": "23a17533",
   "metadata": {},
   "outputs": [
    {
     "name": "stdout",
     "output_type": "stream",
     "text": [
      "2\n",
      "3\n",
      "4\n",
      "5\n",
      "6\n",
      "7\n",
      "8\n",
      "9\n",
      "10\n"
     ]
    }
   ],
   "source": [
    "for n in range(2, 11):\n",
    "    print(n)"
   ]
  },
  {
   "cell_type": "code",
   "execution_count": 16,
   "id": "326443e8",
   "metadata": {},
   "outputs": [
    {
     "name": "stdout",
     "output_type": "stream",
     "text": [
      "2\n",
      "3\n",
      "4\n",
      "5\n",
      "6\n",
      "7\n",
      "8\n",
      "9\n",
      "10\n"
     ]
    }
   ],
   "source": [
    "num = 2\n",
    "while num <= 10:\n",
    "    print(num)\n",
    "    num += 1"
   ]
  },
  {
   "cell_type": "code",
   "execution_count": 19,
   "id": "3073f42f",
   "metadata": {},
   "outputs": [
    {
     "name": "stdout",
     "output_type": "stream",
     "text": [
      "4\n",
      "8\n",
      "16\n"
     ]
    }
   ],
   "source": [
    "def doubles(num):\n",
    "    return num * 2\n",
    "\n",
    "num = 2\n",
    "for n in range(3):\n",
    "    num = doubles(num)\n",
    "    print(num)"
   ]
  }
 ],
 "metadata": {
  "kernelspec": {
   "display_name": "PYTHON_PROG",
   "language": "python",
   "name": "python3"
  },
  "language_info": {
   "codemirror_mode": {
    "name": "ipython",
    "version": 3
   },
   "file_extension": ".py",
   "mimetype": "text/x-python",
   "name": "python",
   "nbconvert_exporter": "python",
   "pygments_lexer": "ipython3",
   "version": "3.13.5"
  }
 },
 "nbformat": 4,
 "nbformat_minor": 5
}
