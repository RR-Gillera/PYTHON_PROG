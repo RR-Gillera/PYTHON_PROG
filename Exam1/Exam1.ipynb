{
 "cells": [
  {
   "cell_type": "markdown",
   "id": "8c56d4d3-3375-4e7f-9d44-62451ff9f1d6",
   "metadata": {},
   "source": [
    "# 1st Long Exam 09/10/2025"
   ]
  },
  {
   "cell_type": "markdown",
   "id": "7cde156b-0862-477e-85ef-0aff937987f9",
   "metadata": {},
   "source": [
    "# Russell Ray Gillera ID: 23747124\n",
    "------------------------------------"
   ]
  },
  {
   "cell_type": "markdown",
   "id": "522c508c-8f0a-4132-85a1-2938b3ebe87f",
   "metadata": {},
   "source": [
    "# Question 1"
   ]
  },
  {
   "cell_type": "code",
   "execution_count": 1,
   "id": "e05c0052-2561-4b1c-ad02-a0ce29d748c0",
   "metadata": {},
   "outputs": [
    {
     "name": "stdout",
     "output_type": "stream",
     "text": [
      "Enter your name:  Russell\n"
     ]
    },
    {
     "name": "stdout",
     "output_type": "stream",
     "text": [
      "Hello, Russell.\n"
     ]
    }
   ],
   "source": [
    "user_input = input(\"Enter your name: \")\n",
    "print(f\"Hello, {user_input}.\")"
   ]
  },
  {
   "cell_type": "markdown",
   "id": "47861c61-1eae-413e-8424-f0565ed9b9de",
   "metadata": {},
   "source": [
    "# Question 2"
   ]
  },
  {
   "cell_type": "code",
   "execution_count": 14,
   "id": "33ccd495-629d-4bf7-a287-c9e53cea1ceb",
   "metadata": {},
   "outputs": [
    {
     "name": "stdout",
     "output_type": "stream",
     "text": [
      "Enter a positive integer:  8\n"
     ]
    },
    {
     "name": "stdout",
     "output_type": "stream",
     "text": [
      "The sum for all numbers from 1 to 8 is 36.0.\n"
     ]
    }
   ],
   "source": [
    "num = int(input(\"Enter a positive integer: \"))\n",
    "num1 = abs(num)\n",
    "sum = (num1 * (num1 + 1)) / 2\n",
    "print(f\"The sum for all numbers from 1 to {num1} is {sum}.\")"
   ]
  },
  {
   "cell_type": "markdown",
   "id": "66fbfcb9-c9a4-43a2-b7d6-f46479885073",
   "metadata": {},
   "source": [
    "# Question 3"
   ]
  },
  {
   "cell_type": "code",
   "execution_count": 28,
   "id": "85ce69f6-f481-4442-b475-1e2d56b3756e",
   "metadata": {},
   "outputs": [
    {
     "name": "stdout",
     "output_type": "stream",
     "text": [
      "Enter an alphabet:  d\n"
     ]
    },
    {
     "name": "stdout",
     "output_type": "stream",
     "text": [
      "The letter d is sometimes a vowel and sometimes a consonant\n"
     ]
    }
   ],
   "source": [
    "letter = input(\"Enter an alphabet: \")\n",
    "alphabet = letter.lower()\n",
    "if alphabet == \"a\" || alphabet == \"e\" || alphabet == \"i\" || alphabet == \"o\" || alphabet == \"u\" :\n",
    "    print(f\"The letter {alphabet} is a vowel\")\n",
    "elif alphabet == \"y\" || \"Y\":\n",
    "    print(f\"The letter {letter} is sometimes a vowel and sometimes a consonant\")\n",
    "else :\n",
    "    print(f\"The letter {letter} is a consonant\")"
   ]
  },
  {
   "cell_type": "markdown",
   "id": "4626d76e-4e7c-4dd0-861b-829d6b3e27ed",
   "metadata": {},
   "source": [
    "# Question 4"
   ]
  },
  {
   "cell_type": "code",
   "execution_count": 34,
   "id": "aa22ec58-0c05-4c41-9f6d-800769256a1a",
   "metadata": {},
   "outputs": [
    {
     "name": "stdout",
     "output_type": "stream",
     "text": [
      "Enter a word:  level\n"
     ]
    },
    {
     "ename": "TypeError",
     "evalue": "'str' object does not support item assignment",
     "output_type": "error",
     "traceback": [
      "\u001b[1;31m---------------------------------------------------------------------------\u001b[0m",
      "\u001b[1;31mTypeError\u001b[0m                                 Traceback (most recent call last)",
      "Cell \u001b[1;32mIn[34], line 5\u001b[0m\n\u001b[0;32m      3\u001b[0m \u001b[38;5;28;01mfor\u001b[39;00m i \u001b[38;5;129;01min\u001b[39;00m \u001b[38;5;28mrange\u001b[39m (\u001b[38;5;241m0\u001b[39m, n):\n\u001b[0;32m      4\u001b[0m     new_word \u001b[38;5;241m=\u001b[39m word[n\u001b[38;5;241m-\u001b[39m\u001b[38;5;241m1\u001b[39m]\n\u001b[1;32m----> 5\u001b[0m     reverse[i:] \u001b[38;5;241m=\u001b[39m new_word\n\u001b[0;32m      6\u001b[0m \u001b[38;5;28;01mif\u001b[39;00m reverse \u001b[38;5;241m==\u001b[39m word:\n\u001b[0;32m      7\u001b[0m     \u001b[38;5;28mprint\u001b[39m(\u001b[38;5;124mf\u001b[39m\u001b[38;5;124m\"\u001b[39m\u001b[38;5;124mThe word \u001b[39m\u001b[38;5;132;01m{\u001b[39;00mword\u001b[38;5;132;01m}\u001b[39;00m\u001b[38;5;124m is a palindrome\u001b[39m\u001b[38;5;124m\"\u001b[39m)\n",
      "\u001b[1;31mTypeError\u001b[0m: 'str' object does not support item assignment"
     ]
    }
   ],
   "source": [
    "word = input(\"Enter a word: \")\n",
    "n = len(word)\n",
    "for i in range (0, n):\n",
    "    new_word = word[n-1]\n",
    "    reverse[i] = new_word\n",
    "if reverse == word:\n",
    "    print(f\"The word {word} is a palindrome.\")\n",
    "else:\n",
    "    print(f\"The word {word} is not a palindrome.\")"
   ]
  },
  {
   "cell_type": "code",
   "execution_count": 1,
   "id": "7e1a5a92-941f-4a7a-9573-2c5824ea4f2d",
   "metadata": {},
   "outputs": [
    {
     "ename": "SyntaxError",
     "evalue": "invalid character '²' (U+00B2) (779649710.py, line 2)",
     "output_type": "error",
     "traceback": [
      "\u001b[1;36m  Cell \u001b[1;32mIn[1], line 2\u001b[1;36m\u001b[0m\n\u001b[1;33m    return ((a²) + (b²)) * 0.5\u001b[0m\n\u001b[1;37m              ^\u001b[0m\n\u001b[1;31mSyntaxError\u001b[0m\u001b[1;31m:\u001b[0m invalid character '²' (U+00B2)\n"
     ]
    }
   ],
   "source": [
    "def hypotenuse(a, b):\n",
    "    return (a² + b²) * 0.5\n",
    "\n",
    "a = float(input(\"Enter a short side of the right triangle: \"))\n",
    "b = float(input(\"Enter another short side of the right triangle: \"))\n",
    "\n",
    "ans = hypotenuse(a, b)\n",
    "print(f\"The length for the hypotenuse is {ans}.\")"
   ]
  },
  {
   "cell_type": "code",
   "execution_count": null,
   "id": "652454f4-36a0-4a5f-800d-105f363e3094",
   "metadata": {},
   "outputs": [],
   "source": []
  }
 ],
 "metadata": {
  "kernelspec": {
   "display_name": "Python 3 (ipykernel)",
   "language": "python",
   "name": "python3"
  },
  "language_info": {
   "codemirror_mode": {
    "name": "ipython",
    "version": 3
   },
   "file_extension": ".py",
   "mimetype": "text/x-python",
   "name": "python",
   "nbconvert_exporter": "python",
   "pygments_lexer": "ipython3",
   "version": "3.13.5"
  }
 },
 "nbformat": 4,
 "nbformat_minor": 5
}
